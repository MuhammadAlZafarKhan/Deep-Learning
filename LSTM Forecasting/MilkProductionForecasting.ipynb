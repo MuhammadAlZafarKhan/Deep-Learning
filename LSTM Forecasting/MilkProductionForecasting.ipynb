{
  "nbformat": 4,
  "nbformat_minor": 0,
  "metadata": {
    "colab": {
      "provenance": []
    },
    "kernelspec": {
      "name": "python3",
      "display_name": "Python 3"
    },
    "language_info": {
      "name": "python"
    },
    "accelerator": "GPU",
    "gpuClass": "standard"
  },
  "cells": [
    {
      "cell_type": "code",
      "source": [
        "import pandas as pd\n",
        "import numpy as np\n",
        "import matplotlib.pyplot as plt\n",
        "\n",
        "%matplotlib inline"
      ],
      "metadata": {
        "id": "Eu4ZOkkajtB9"
      },
      "execution_count": 1,
      "outputs": []
    },
    {
      "cell_type": "code",
      "source": [
        "# Reading in the data\n",
        "df = pd.read_excel(\"/content/MilkDataset.xlsx\", index_col = \"Date\", parse_dates = True)\n",
        "df.head()"
      ],
      "metadata": {
        "colab": {
          "base_uri": "https://localhost:8080/",
          "height": 237
        },
        "id": "cCrmrM1KlcCr",
        "outputId": "fe18e9fc-73d3-4c65-8c45-7c2758429893"
      },
      "execution_count": 2,
      "outputs": [
        {
          "output_type": "execute_result",
          "data": {
            "text/plain": [
              "            Production\n",
              "Date                  \n",
              "1962-01-01         589\n",
              "1962-02-01         561\n",
              "1962-03-01         640\n",
              "1962-04-01         656\n",
              "1962-05-01         727"
            ],
            "text/html": [
              "\n",
              "  <div id=\"df-4e618cd2-fa3a-4401-8788-86ec732be697\">\n",
              "    <div class=\"colab-df-container\">\n",
              "      <div>\n",
              "<style scoped>\n",
              "    .dataframe tbody tr th:only-of-type {\n",
              "        vertical-align: middle;\n",
              "    }\n",
              "\n",
              "    .dataframe tbody tr th {\n",
              "        vertical-align: top;\n",
              "    }\n",
              "\n",
              "    .dataframe thead th {\n",
              "        text-align: right;\n",
              "    }\n",
              "</style>\n",
              "<table border=\"1\" class=\"dataframe\">\n",
              "  <thead>\n",
              "    <tr style=\"text-align: right;\">\n",
              "      <th></th>\n",
              "      <th>Production</th>\n",
              "    </tr>\n",
              "    <tr>\n",
              "      <th>Date</th>\n",
              "      <th></th>\n",
              "    </tr>\n",
              "  </thead>\n",
              "  <tbody>\n",
              "    <tr>\n",
              "      <th>1962-01-01</th>\n",
              "      <td>589</td>\n",
              "    </tr>\n",
              "    <tr>\n",
              "      <th>1962-02-01</th>\n",
              "      <td>561</td>\n",
              "    </tr>\n",
              "    <tr>\n",
              "      <th>1962-03-01</th>\n",
              "      <td>640</td>\n",
              "    </tr>\n",
              "    <tr>\n",
              "      <th>1962-04-01</th>\n",
              "      <td>656</td>\n",
              "    </tr>\n",
              "    <tr>\n",
              "      <th>1962-05-01</th>\n",
              "      <td>727</td>\n",
              "    </tr>\n",
              "  </tbody>\n",
              "</table>\n",
              "</div>\n",
              "      <button class=\"colab-df-convert\" onclick=\"convertToInteractive('df-4e618cd2-fa3a-4401-8788-86ec732be697')\"\n",
              "              title=\"Convert this dataframe to an interactive table.\"\n",
              "              style=\"display:none;\">\n",
              "        \n",
              "  <svg xmlns=\"http://www.w3.org/2000/svg\" height=\"24px\"viewBox=\"0 0 24 24\"\n",
              "       width=\"24px\">\n",
              "    <path d=\"M0 0h24v24H0V0z\" fill=\"none\"/>\n",
              "    <path d=\"M18.56 5.44l.94 2.06.94-2.06 2.06-.94-2.06-.94-.94-2.06-.94 2.06-2.06.94zm-11 1L8.5 8.5l.94-2.06 2.06-.94-2.06-.94L8.5 2.5l-.94 2.06-2.06.94zm10 10l.94 2.06.94-2.06 2.06-.94-2.06-.94-.94-2.06-.94 2.06-2.06.94z\"/><path d=\"M17.41 7.96l-1.37-1.37c-.4-.4-.92-.59-1.43-.59-.52 0-1.04.2-1.43.59L10.3 9.45l-7.72 7.72c-.78.78-.78 2.05 0 2.83L4 21.41c.39.39.9.59 1.41.59.51 0 1.02-.2 1.41-.59l7.78-7.78 2.81-2.81c.8-.78.8-2.07 0-2.86zM5.41 20L4 18.59l7.72-7.72 1.47 1.35L5.41 20z\"/>\n",
              "  </svg>\n",
              "      </button>\n",
              "      \n",
              "  <style>\n",
              "    .colab-df-container {\n",
              "      display:flex;\n",
              "      flex-wrap:wrap;\n",
              "      gap: 12px;\n",
              "    }\n",
              "\n",
              "    .colab-df-convert {\n",
              "      background-color: #E8F0FE;\n",
              "      border: none;\n",
              "      border-radius: 50%;\n",
              "      cursor: pointer;\n",
              "      display: none;\n",
              "      fill: #1967D2;\n",
              "      height: 32px;\n",
              "      padding: 0 0 0 0;\n",
              "      width: 32px;\n",
              "    }\n",
              "\n",
              "    .colab-df-convert:hover {\n",
              "      background-color: #E2EBFA;\n",
              "      box-shadow: 0px 1px 2px rgba(60, 64, 67, 0.3), 0px 1px 3px 1px rgba(60, 64, 67, 0.15);\n",
              "      fill: #174EA6;\n",
              "    }\n",
              "\n",
              "    [theme=dark] .colab-df-convert {\n",
              "      background-color: #3B4455;\n",
              "      fill: #D2E3FC;\n",
              "    }\n",
              "\n",
              "    [theme=dark] .colab-df-convert:hover {\n",
              "      background-color: #434B5C;\n",
              "      box-shadow: 0px 1px 3px 1px rgba(0, 0, 0, 0.15);\n",
              "      filter: drop-shadow(0px 1px 2px rgba(0, 0, 0, 0.3));\n",
              "      fill: #FFFFFF;\n",
              "    }\n",
              "  </style>\n",
              "\n",
              "      <script>\n",
              "        const buttonEl =\n",
              "          document.querySelector('#df-4e618cd2-fa3a-4401-8788-86ec732be697 button.colab-df-convert');\n",
              "        buttonEl.style.display =\n",
              "          google.colab.kernel.accessAllowed ? 'block' : 'none';\n",
              "\n",
              "        async function convertToInteractive(key) {\n",
              "          const element = document.querySelector('#df-4e618cd2-fa3a-4401-8788-86ec732be697');\n",
              "          const dataTable =\n",
              "            await google.colab.kernel.invokeFunction('convertToInteractive',\n",
              "                                                     [key], {});\n",
              "          if (!dataTable) return;\n",
              "\n",
              "          const docLinkHtml = 'Like what you see? Visit the ' +\n",
              "            '<a target=\"_blank\" href=https://colab.research.google.com/notebooks/data_table.ipynb>data table notebook</a>'\n",
              "            + ' to learn more about interactive tables.';\n",
              "          element.innerHTML = '';\n",
              "          dataTable['output_type'] = 'display_data';\n",
              "          await google.colab.output.renderOutput(dataTable, element);\n",
              "          const docLink = document.createElement('div');\n",
              "          docLink.innerHTML = docLinkHtml;\n",
              "          element.appendChild(docLink);\n",
              "        }\n",
              "      </script>\n",
              "    </div>\n",
              "  </div>\n",
              "  "
            ]
          },
          "metadata": {},
          "execution_count": 2
        }
      ]
    },
    {
      "cell_type": "code",
      "source": [
        "# Plotting the dataset\n",
        "df.plot(figsize = (12, 9))"
      ],
      "metadata": {
        "colab": {
          "base_uri": "https://localhost:8080/",
          "height": 568
        },
        "id": "52Hzyrggltyk",
        "outputId": "7d822dff-5b31-449d-83dd-14110eee5adc"
      },
      "execution_count": 3,
      "outputs": [
        {
          "output_type": "execute_result",
          "data": {
            "text/plain": [
              "<matplotlib.axes._subplots.AxesSubplot at 0x7f1778512c90>"
            ]
          },
          "metadata": {},
          "execution_count": 3
        },
        {
          "output_type": "display_data",
          "data": {
            "text/plain": [
              "<Figure size 864x648 with 1 Axes>"
            ],
            "image/png": "[encoded data removed]"
          },
          "metadata": {
            "needs_background": "light"
          }
        }
      ]
    },
    {
      "cell_type": "code",
      "source": [
        "# Infering the seasonality of the data\n",
        "from statsmodels.tsa.seasonal import seasonal_decompose"
      ],
      "metadata": {
        "id": "N86gYCa7mMfz"
      },
      "execution_count": 4,
      "outputs": []
    },
    {
      "cell_type": "code",
      "source": [
        "results = seasonal_decompose(df[\"Production\"])\n",
        "results.plot();"
      ],
      "metadata": {
        "colab": {
          "base_uri": "https://localhost:8080/",
          "height": 297
        },
        "id": "FLF-w6jDnEye",
        "outputId": "da2cb773-540c-4ee7-a56c-699e9c660f2e"
      },
      "execution_count": 5,
      "outputs": [
        {
          "output_type": "display_data",
          "data": {
            "text/plain": [
              "<Figure size 432x288 with 4 Axes>"
            ],
            "image/png": "[encoded data removed]"
          },
          "metadata": {
            "needs_background": "light"
          }
        }
      ]
    },
    {
      "cell_type": "markdown",
      "source": [
        "# Now we check the length of the dataset and use the last 12 months as the test dataset, and everyting before that as the training dataset"
      ],
      "metadata": {
        "id": "E0HixHg1oM-_"
      }
    },
    {
      "cell_type": "code",
      "source": [
        "len(df)"
      ],
      "metadata": {
        "colab": {
          "base_uri": "https://localhost:8080/"
        },
        "id": "5Ed3n-7XnO_b",
        "outputId": "98c76389-6888-472f-db3d-ea7ba6457faf"
      },
      "execution_count": 6,
      "outputs": [
        {
          "output_type": "execute_result",
          "data": {
            "text/plain": [
              "168"
            ]
          },
          "metadata": {},
          "execution_count": 6
        }
      ]
    },
    {
      "cell_type": "markdown",
      "source": [
        "## 168 - 12 (last 12 months) = 156"
      ],
      "metadata": {
        "id": "a3_IMjkVoh2m"
      }
    },
    {
      "cell_type": "code",
      "source": [
        "train_data = df.iloc[:156] # All rows starting from index 0 to index 156 \n",
        "test_data = df.iloc[156:] # all rows starting from index 156 to the last index"
      ],
      "metadata": {
        "id": "f7ZnXrHpofkS"
      },
      "execution_count": 7,
      "outputs": []
    },
    {
      "cell_type": "markdown",
      "source": [
        "# Scaling the data"
      ],
      "metadata": {
        "id": "L91G9Zn9rwoJ"
      }
    },
    {
      "cell_type": "code",
      "source": [
        "from sklearn.preprocessing import MinMaxScaler\n",
        "\n",
        "scaler = MinMaxScaler()\n",
        "\n",
        "scaled_training_data = scaler.fit_transform(train_data) \n",
        "scaled_testing_data = scaler.fit_transform(test_data)"
      ],
      "metadata": {
        "id": "-anBaX5druAv"
      },
      "execution_count": 8,
      "outputs": []
    },
    {
      "cell_type": "markdown",
      "source": [
        "# Formatting the data to feed to LSTM model - Batching the data"
      ],
      "metadata": {
        "id": "xEdMhCywswnG"
      }
    },
    {
      "cell_type": "code",
      "source": [
        "from keras.preprocessing.sequence import TimeseriesGenerator"
      ],
      "metadata": {
        "id": "6QnPcMOmsmBX"
      },
      "execution_count": 9,
      "outputs": []
    },
    {
      "cell_type": "code",
      "source": [
        "# defining the generator -- I feed it batches of 3 months (3 months data at a time) and then I wnat to it predict the\n",
        "                         # next month (4th month)\n",
        "\n",
        "n_input = 12 # I feed it a batch of twelve\n",
        "n_features = 1 # I want it to predict only the next value, it would be more if you are using multiple time series\n",
        "generator = TimeseriesGenerator(scaled_training_data, scaled_training_data, length = n_input, batch_size = 1)"
      ],
      "metadata": {
        "id": "qW-vGUXUtXTZ"
      },
      "execution_count": 10,
      "outputs": []
    },
    {
      "cell_type": "markdown",
      "source": [
        "# Building the model"
      ],
      "metadata": {
        "id": "ftylkVoYyF3j"
      }
    },
    {
      "cell_type": "code",
      "source": [
        "from keras.models import Sequential\n",
        "from keras.layers import Dense\n",
        "from keras.layers import LSTM"
      ],
      "metadata": {
        "id": "ll5BvZDWudHG"
      },
      "execution_count": 11,
      "outputs": []
    },
    {
      "cell_type": "code",
      "source": [
        "# Defining the model\n",
        "model = Sequential() # Layers are in a sequence one after the other\n",
        "model.add(LSTM(100, activation = \"relu\", input_shape = (n_input, n_features))) # LSTM model with 100 neurons, activation function is ReLU,\n",
        "                                                                               # and  \n",
        "model.add(Dense(1)) # The output layer\n",
        "model.compile(optimizer = \"adam\", loss = \"mse\") # Compiling the model"
      ],
      "metadata": {
        "colab": {
          "base_uri": "https://localhost:8080/"
        },
        "id": "ey6NmFHPyVl1",
        "outputId": "6c723e41-ab6e-47ac-cf83-c225ce5769e5"
      },
      "execution_count": 12,
      "outputs": [
        {
          "output_type": "stream",
          "name": "stderr",
          "text": [
            "WARNING:tensorflow:Layer lstm will not use cuDNN kernels since it doesn't meet the criteria. It will use a generic GPU kernel as fallback when running on GPU.\n"
          ]
        }
      ]
    },
    {
      "cell_type": "code",
      "source": [
        "model.summary()"
      ],
      "metadata": {
        "colab": {
          "base_uri": "https://localhost:8080/"
        },
        "id": "ljy_PuRPzYP2",
        "outputId": "8fc827ed-ffae-4430-f2ee-37eedf53bfae"
      },
      "execution_count": 13,
      "outputs": [
        {
          "output_type": "stream",
          "name": "stdout",
          "text": [
            "Model: \"sequential\"\n",
            "_________________________________________________________________\n",
            " Layer (type)                Output Shape              Param #   \n",
            "=================================================================\n",
            " lstm (LSTM)                 (None, 100)               40800     \n",
            "                                                                 \n",
            " dense (Dense)               (None, 1)                 101       \n",
            "                                                                 \n",
            "=================================================================\n",
            "Total params: 40,901\n",
            "Trainable params: 40,901\n",
            "Non-trainable params: 0\n",
            "_________________________________________________________________\n"
          ]
        }
      ]
    },
    {
      "cell_type": "code",
      "source": [
        "# Fitting the model\n",
        "model.fit(generator, epochs = 100)"
      ],
      "metadata": {
        "colab": {
          "base_uri": "https://localhost:8080/"
        },
        "id": "vt--B2VDzaSv",
        "outputId": "4ce79464-4c0c-4825-b6b4-87f56f6349a3"
      },
      "execution_count": 14,
      "outputs": [
        {
          "output_type": "stream",
          "name": "stdout",
          "text": [
            "Epoch 1/100\n",
            "144/144 [==============================] - 7s 36ms/step - loss: 0.0488\n",
            "Epoch 2/100\n",
            "144/144 [==============================] - 6s 45ms/step - loss: 0.0214\n",
            "Epoch 3/100\n",
            "144/144 [==============================] - 6s 39ms/step - loss: 0.0215\n",
            "Epoch 4/100\n",
            "144/144 [==============================] - 3s 20ms/step - loss: 0.0134\n",
            "Epoch 5/100\n",
            "144/144 [==============================] - 3s 21ms/step - loss: 0.0082\n",
            "Epoch 6/100\n",
            "144/144 [==============================] - 3s 21ms/step - loss: 0.0060\n",
            "Epoch 7/100\n",
            "144/144 [==============================] - 3s 21ms/step - loss: 0.0048\n",
            "Epoch 8/100\n",
            "144/144 [==============================] - 4s 26ms/step - loss: 0.0070\n",
            "Epoch 9/100\n",
            "144/144 [==============================] - 3s 20ms/step - loss: 0.0049\n",
            "Epoch 10/100\n",
            "144/144 [==============================] - 3s 21ms/step - loss: 0.0045\n",
            "Epoch 11/100\n",
            "144/144 [==============================] - 3s 20ms/step - loss: 0.0042\n",
            "Epoch 12/100\n",
            "144/144 [==============================] - 3s 20ms/step - loss: 0.0049\n",
            "Epoch 13/100\n",
            "144/144 [==============================] - 3s 20ms/step - loss: 0.0041\n",
            "Epoch 14/100\n",
            "144/144 [==============================] - 3s 21ms/step - loss: 0.0049\n",
            "Epoch 15/100\n",
            "144/144 [==============================] - 3s 20ms/step - loss: 0.0046\n",
            "Epoch 16/100\n",
            "144/144 [==============================] - 3s 21ms/step - loss: 0.0038\n",
            "Epoch 17/100\n",
            "144/144 [==============================] - 3s 20ms/step - loss: 0.0070\n",
            "Epoch 18/100\n",
            "144/144 [==============================] - 3s 21ms/step - loss: 0.0037\n",
            "Epoch 19/100\n",
            "144/144 [==============================] - 3s 21ms/step - loss: 0.0040\n",
            "Epoch 20/100\n",
            "144/144 [==============================] - 3s 21ms/step - loss: 0.0044\n",
            "Epoch 21/100\n",
            "144/144 [==============================] - 3s 21ms/step - loss: 0.0064\n",
            "Epoch 22/100\n",
            "144/144 [==============================] - 3s 21ms/step - loss: 0.0040\n",
            "Epoch 23/100\n",
            "144/144 [==============================] - 3s 20ms/step - loss: 0.0064\n",
            "Epoch 24/100\n",
            "144/144 [==============================] - 3s 20ms/step - loss: 0.0039\n",
            "Epoch 25/100\n",
            "144/144 [==============================] - 3s 20ms/step - loss: 0.0037\n",
            "Epoch 26/100\n",
            "144/144 [==============================] - 3s 20ms/step - loss: 0.0034\n",
            "Epoch 27/100\n",
            "144/144 [==============================] - 5s 32ms/step - loss: 0.0043\n",
            "Epoch 28/100\n",
            "144/144 [==============================] - 3s 20ms/step - loss: 0.0034\n",
            "Epoch 29/100\n",
            "144/144 [==============================] - 3s 20ms/step - loss: 0.0041\n",
            "Epoch 30/100\n",
            "144/144 [==============================] - 3s 21ms/step - loss: 0.0034\n",
            "Epoch 31/100\n",
            "144/144 [==============================] - 3s 23ms/step - loss: 0.0035\n",
            "Epoch 32/100\n",
            "144/144 [==============================] - 3s 20ms/step - loss: 0.0033\n",
            "Epoch 33/100\n",
            "144/144 [==============================] - 3s 21ms/step - loss: 0.0027\n",
            "Epoch 34/100\n",
            "144/144 [==============================] - 3s 20ms/step - loss: 0.0029\n",
            "Epoch 35/100\n",
            "144/144 [==============================] - 3s 21ms/step - loss: 0.0034\n",
            "Epoch 36/100\n",
            "144/144 [==============================] - 4s 29ms/step - loss: 0.0035\n",
            "Epoch 37/100\n",
            "144/144 [==============================] - 3s 21ms/step - loss: 0.0028\n",
            "Epoch 38/100\n",
            "144/144 [==============================] - 3s 21ms/step - loss: 0.0031\n",
            "Epoch 39/100\n",
            "144/144 [==============================] - 3s 21ms/step - loss: 0.0031\n",
            "Epoch 40/100\n",
            "144/144 [==============================] - 3s 21ms/step - loss: 0.0031\n",
            "Epoch 41/100\n",
            "144/144 [==============================] - 3s 21ms/step - loss: 0.0029\n",
            "Epoch 42/100\n",
            "144/144 [==============================] - 3s 20ms/step - loss: 0.0027\n",
            "Epoch 43/100\n",
            "144/144 [==============================] - 3s 21ms/step - loss: 0.0033\n",
            "Epoch 44/100\n",
            "144/144 [==============================] - 3s 21ms/step - loss: 0.0032\n",
            "Epoch 45/100\n",
            "144/144 [==============================] - 3s 21ms/step - loss: 0.0031\n",
            "Epoch 46/100\n",
            "144/144 [==============================] - 3s 21ms/step - loss: 0.0029\n",
            "Epoch 47/100\n",
            "144/144 [==============================] - 3s 20ms/step - loss: 0.0024\n",
            "Epoch 48/100\n",
            "144/144 [==============================] - 3s 20ms/step - loss: 0.0025\n",
            "Epoch 49/100\n",
            "144/144 [==============================] - 3s 20ms/step - loss: 0.0023\n",
            "Epoch 50/100\n",
            "144/144 [==============================] - 3s 20ms/step - loss: 0.0022\n",
            "Epoch 51/100\n",
            "144/144 [==============================] - 3s 20ms/step - loss: 0.0022\n",
            "Epoch 52/100\n",
            "144/144 [==============================] - 3s 20ms/step - loss: 0.0024\n",
            "Epoch 53/100\n",
            "144/144 [==============================] - 3s 20ms/step - loss: 0.0026\n",
            "Epoch 54/100\n",
            "144/144 [==============================] - 3s 21ms/step - loss: 0.0021\n",
            "Epoch 55/100\n",
            "144/144 [==============================] - 4s 28ms/step - loss: 0.0032\n",
            "Epoch 56/100\n",
            "144/144 [==============================] - 3s 21ms/step - loss: 0.0020\n",
            "Epoch 57/100\n",
            "144/144 [==============================] - 3s 20ms/step - loss: 0.0021\n",
            "Epoch 58/100\n",
            "144/144 [==============================] - 3s 20ms/step - loss: 0.0021\n",
            "Epoch 59/100\n",
            "144/144 [==============================] - 3s 20ms/step - loss: 0.0022\n",
            "Epoch 60/100\n",
            "144/144 [==============================] - 3s 21ms/step - loss: 0.0019\n",
            "Epoch 61/100\n",
            "144/144 [==============================] - 3s 21ms/step - loss: 0.0020\n",
            "Epoch 62/100\n",
            "144/144 [==============================] - 3s 21ms/step - loss: 0.0019\n",
            "Epoch 63/100\n",
            "144/144 [==============================] - 3s 20ms/step - loss: 0.0021\n",
            "Epoch 64/100\n",
            "144/144 [==============================] - 3s 20ms/step - loss: 0.0022\n",
            "Epoch 65/100\n",
            "144/144 [==============================] - 3s 20ms/step - loss: 0.0026\n",
            "Epoch 66/100\n",
            "144/144 [==============================] - 3s 21ms/step - loss: 0.0022\n",
            "Epoch 67/100\n",
            "144/144 [==============================] - 3s 21ms/step - loss: 0.0022\n",
            "Epoch 68/100\n",
            "144/144 [==============================] - 3s 20ms/step - loss: 0.0020\n",
            "Epoch 69/100\n",
            "144/144 [==============================] - 3s 22ms/step - loss: 0.0023\n",
            "Epoch 70/100\n",
            "144/144 [==============================] - 3s 21ms/step - loss: 0.0019\n",
            "Epoch 71/100\n",
            "144/144 [==============================] - 3s 21ms/step - loss: 0.0021\n",
            "Epoch 72/100\n",
            "144/144 [==============================] - 3s 21ms/step - loss: 0.0021\n",
            "Epoch 73/100\n",
            "144/144 [==============================] - 3s 21ms/step - loss: 0.0023\n",
            "Epoch 74/100\n",
            "144/144 [==============================] - 3s 21ms/step - loss: 0.0019\n",
            "Epoch 75/100\n",
            "144/144 [==============================] - 3s 21ms/step - loss: 0.0016\n",
            "Epoch 76/100\n",
            "144/144 [==============================] - 3s 21ms/step - loss: 0.0020\n",
            "Epoch 77/100\n",
            "144/144 [==============================] - 3s 21ms/step - loss: 0.0019\n",
            "Epoch 78/100\n",
            "144/144 [==============================] - 3s 21ms/step - loss: 0.0022\n",
            "Epoch 79/100\n",
            "144/144 [==============================] - 4s 24ms/step - loss: 0.0019\n",
            "Epoch 80/100\n",
            "144/144 [==============================] - 3s 21ms/step - loss: 0.0018\n",
            "Epoch 81/100\n",
            "144/144 [==============================] - 3s 20ms/step - loss: 0.0016\n",
            "Epoch 82/100\n",
            "144/144 [==============================] - 3s 21ms/step - loss: 0.0018\n",
            "Epoch 83/100\n",
            "144/144 [==============================] - 3s 21ms/step - loss: 0.0017\n",
            "Epoch 84/100\n",
            "144/144 [==============================] - 3s 21ms/step - loss: 0.0016\n",
            "Epoch 85/100\n",
            "144/144 [==============================] - 3s 21ms/step - loss: 0.0018\n",
            "Epoch 86/100\n",
            "144/144 [==============================] - 3s 21ms/step - loss: 0.0019\n",
            "Epoch 87/100\n",
            "144/144 [==============================] - 3s 20ms/step - loss: 0.0019\n",
            "Epoch 88/100\n",
            "144/144 [==============================] - 3s 20ms/step - loss: 0.0016\n",
            "Epoch 89/100\n",
            "144/144 [==============================] - 3s 21ms/step - loss: 0.0020\n",
            "Epoch 90/100\n",
            "144/144 [==============================] - 3s 20ms/step - loss: 0.0015\n",
            "Epoch 91/100\n",
            "144/144 [==============================] - 3s 21ms/step - loss: 0.0020\n",
            "Epoch 92/100\n",
            "144/144 [==============================] - 3s 20ms/step - loss: 0.0017\n",
            "Epoch 93/100\n",
            "144/144 [==============================] - 3s 21ms/step - loss: 0.0019\n",
            "Epoch 94/100\n",
            "144/144 [==============================] - 3s 21ms/step - loss: 0.0019\n",
            "Epoch 95/100\n",
            "144/144 [==============================] - 3s 21ms/step - loss: 0.0018\n",
            "Epoch 96/100\n",
            "144/144 [==============================] - 3s 21ms/step - loss: 0.0018\n",
            "Epoch 97/100\n",
            "144/144 [==============================] - 3s 21ms/step - loss: 0.0018\n",
            "Epoch 98/100\n",
            "144/144 [==============================] - 3s 21ms/step - loss: 0.0017\n",
            "Epoch 99/100\n",
            "144/144 [==============================] - 3s 21ms/step - loss: 0.0016\n",
            "Epoch 100/100\n",
            "144/144 [==============================] - 3s 21ms/step - loss: 0.0019\n"
          ]
        },
        {
          "output_type": "execute_result",
          "data": {
            "text/plain": [
              "<keras.callbacks.History at 0x7f16aa1761d0>"
            ]
          },
          "metadata": {},
          "execution_count": 14
        }
      ]
    },
    {
      "cell_type": "code",
      "source": [
        "# Plotting the loss\n",
        "loss_per_epoch = model.history.history[\"loss\"]\n",
        "plt.plot(range(len(loss_per_epoch)), loss_per_epoch)\n",
        "plt.ylabel(\"Loss\")\n",
        "plt.xlabel(\"Epoch\")"
      ],
      "metadata": {
        "colab": {
          "base_uri": "https://localhost:8080/",
          "height": 296
        },
        "id": "uAD0s8p71vjz",
        "outputId": "c3b411c9-e530-4418-e43d-149e344a9632"
      },
      "execution_count": 15,
      "outputs": [
        {
          "output_type": "execute_result",
          "data": {
            "text/plain": [
              "Text(0.5, 0, 'Epoch')"
            ]
          },
          "metadata": {},
          "execution_count": 15
        },
        {
          "output_type": "display_data",
          "data": {
            "text/plain": [
              "<Figure size 432x288 with 1 Axes>"
            ],
            "image/png": "[encoded data removed]"
          },
          "metadata": {
            "needs_background": "light"
          }
        }
      ]
    },
    {
      "cell_type": "markdown",
      "source": [
        "# Making Predictions"
      ],
      "metadata": {
        "id": "o6R9VhhY2im7"
      }
    },
    {
      "cell_type": "code",
      "source": [
        "from matplotlib import test\n",
        "test_predictions = []\n",
        "\n",
        "first_eval_batch = scaled_training_data[-n_input:]\n",
        "current_batch = first_eval_batch.reshape((1, n_input, n_features))\n",
        "\n",
        "for i in range(len(test_data)):\n",
        "\n",
        "  # Prediction value in the first batch\n",
        "  current_prediction = model.predict(current_batch)[0]\n",
        "\n",
        "  # Appending the prediction into the array\n",
        "  test_predictions.append(current_prediction)\n",
        "\n",
        "  # Using the prediction to update the batch and removing the current value\n",
        "  current_batch = np.append(current_batch[:, 1:, :], [[current_prediction]], axis = 1)"
      ],
      "metadata": {
        "colab": {
          "base_uri": "https://localhost:8080/"
        },
        "id": "9y54qUfN2FmT",
        "outputId": "cc7275bb-4e23-4e99-a9dd-32a6caece9b9"
      },
      "execution_count": 16,
      "outputs": [
        {
          "output_type": "stream",
          "name": "stdout",
          "text": [
            "1/1 [==============================] - 0s 178ms/step\n",
            "1/1 [==============================] - 0s 19ms/step\n",
            "1/1 [==============================] - 0s 16ms/step\n",
            "1/1 [==============================] - 0s 18ms/step\n",
            "1/1 [==============================] - 0s 17ms/step\n",
            "1/1 [==============================] - 0s 19ms/step\n",
            "1/1 [==============================] - 0s 18ms/step\n",
            "1/1 [==============================] - 0s 19ms/step\n",
            "1/1 [==============================] - 0s 20ms/step\n",
            "1/1 [==============================] - 0s 16ms/step\n",
            "1/1 [==============================] - 0s 18ms/step\n",
            "1/1 [==============================] - 0s 19ms/step\n"
          ]
        }
      ]
    },
    {
      "cell_type": "markdown",
      "source": [
        "# At this point, because you scaled your data, it will be in the range $\\left(0, 1\\right)$, we will have to transform it back to the original scale!"
      ],
      "metadata": {
        "id": "WQpQPQmp5-7g"
      }
    },
    {
      "cell_type": "code",
      "source": [
        "true_predictions = scaler.inverse_transform(test_predictions)\n",
        "true_predictions"
      ],
      "metadata": {
        "colab": {
          "base_uri": "https://localhost:8080/"
        },
        "id": "8t318zyb5m_V",
        "outputId": "f109d1d8-b207-428f-e930-eab1426ae20b"
      },
      "execution_count": 17,
      "outputs": [
        {
          "output_type": "execute_result",
          "data": {
            "text/plain": [
              "array([[904.80473709],\n",
              "       [895.36811638],\n",
              "       [930.98107338],\n",
              "       [938.00598383],\n",
              "       [962.18831968],\n",
              "       [955.77089643],\n",
              "       [943.81435156],\n",
              "       [926.33456564],\n",
              "       [906.36080408],\n",
              "       [900.13733673],\n",
              "       [887.88477468],\n",
              "       [898.08110809]])"
            ]
          },
          "metadata": {},
          "execution_count": 17
        }
      ]
    },
    {
      "cell_type": "code",
      "source": [
        "# Appending the true preictions to the testing dataset\n",
        "\n",
        "test_data[\"Predictions\"] = true_predictions"
      ],
      "metadata": {
        "colab": {
          "base_uri": "https://localhost:8080/"
        },
        "id": "gNWSexdf6lLM",
        "outputId": "e5515f6d-6437-4638-c167-74cff1860fb6"
      },
      "execution_count": 18,
      "outputs": [
        {
          "output_type": "stream",
          "name": "stderr",
          "text": [
            "/usr/local/lib/python3.7/dist-packages/ipykernel_launcher.py:3: SettingWithCopyWarning: \n",
            "A value is trying to be set on a copy of a slice from a DataFrame.\n",
            "Try using .loc[row_indexer,col_indexer] = value instead\n",
            "\n",
            "See the caveats in the documentation: https://pandas.pydata.org/pandas-docs/stable/user_guide/indexing.html#returning-a-view-versus-a-copy\n",
            "  This is separate from the ipykernel package so we can avoid doing imports until\n"
          ]
        }
      ]
    },
    {
      "cell_type": "code",
      "source": [
        "# Plotting the test dataset and the predicted values\n",
        "test_data.plot()"
      ],
      "metadata": {
        "colab": {
          "base_uri": "https://localhost:8080/",
          "height": 312
        },
        "id": "eQT2oFjw6_Os",
        "outputId": "9e5a58c1-ccbe-4cda-a5ce-12cbd06e7ddb"
      },
      "execution_count": 19,
      "outputs": [
        {
          "output_type": "execute_result",
          "data": {
            "text/plain": [
              "<matplotlib.axes._subplots.AxesSubplot at 0x7f1691f09210>"
            ]
          },
          "metadata": {},
          "execution_count": 19
        },
        {
          "output_type": "display_data",
          "data": {
            "text/plain": [
              "<Figure size 432x288 with 1 Axes>"
            ],
            "image/png": "[encoded data removed]"
          },
          "metadata": {
            "needs_background": "light"
          }
        }
      ]
    },
    {
      "cell_type": "markdown",
      "source": [
        "# Calculating the error in prediction"
      ],
      "metadata": {
        "id": "8a2EkPVy7xAQ"
      }
    },
    {
      "cell_type": "code",
      "source": [
        "from sklearn.metrics import mean_squared_error\n",
        "import math\n",
        "\n",
        "rmse = math.sqrt(mean_squared_error(test_data[\"Production\"], test_data[\"Predictions\"]))\n",
        "rmse"
      ],
      "metadata": {
        "colab": {
          "base_uri": "https://localhost:8080/"
        },
        "id": "0s-HIFc47MyR",
        "outputId": "7fa59fd9-1bd1-4f44-87bd-3928595cfb58"
      },
      "execution_count": 20,
      "outputs": [
        {
          "output_type": "execute_result",
          "data": {
            "text/plain": [
              "66.18262498308499"
            ]
          },
          "metadata": {},
          "execution_count": 20
        }
      ]
    }
  ]
}